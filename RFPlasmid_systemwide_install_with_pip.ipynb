{
  "nbformat": 4,
  "nbformat_minor": 0,
  "metadata": {
    "colab": {
      "name": "Kopie van RFPlasmid systemwide install with pip",
      "provenance": [],
      "authorship_tag": "ABX9TyN6dIoEsgPYHgWOgQLhfyPY",
      "include_colab_link": true
    },
    "kernelspec": {
      "name": "python3",
      "display_name": "Python 3"
    },
    "language_info": {
      "name": "python"
    }
  },
  "cells": [
    {
      "cell_type": "markdown",
      "metadata": {
        "id": "view-in-github",
        "colab_type": "text"
      },
      "source": [
        "<a href=\"https://colab.research.google.com/github/aldertzomer/RFPlasmid/blob/master/RFPlasmid_systemwide_install_with_pip.ipynb\" target=\"_parent\"><img src=\"https://colab.research.google.com/assets/colab-badge.svg\" alt=\"Open In Colab\"/></a>"
      ]
    },
    {
      "cell_type": "markdown",
      "metadata": {
        "id": "IZalEpa0u5YJ"
      },
      "source": [
        "# Welcome!\n",
        "\n",
        "This Google Colab script shows how to install rfplasmid systemwide using pip and allows using it as well by mounting your Google drive and running it on a folder there. Please send adjustments and improvements to a.l.zomer@uu.nl\n"
      ]
    },
    {
      "cell_type": "code",
      "metadata": {
        "id": "aq2HkZzWe0hV"
      },
      "source": [
        "#DIAMOND is required for RFPlasmid\n",
        "%%shell\n",
        "wget http://github.com/bbuchfink/diamond/releases/download/v0.9.24/diamond-linux64.tar.gz\n",
        "tar xzf diamond-linux64.tar.gz\n",
        "cp diamond /usr/local/bin/diamond\n",
        "diamond --version"
      ],
      "execution_count": null,
      "outputs": []
    },
    {
      "cell_type": "code",
      "metadata": {
        "id": "gausp5B2qXWZ"
      },
      "source": [
        "#CheckM requires HMMER\n",
        "%%shell\n",
        "apt install hmmer\n",
        "hmmsearch -h"
      ],
      "execution_count": null,
      "outputs": []
    },
    {
      "cell_type": "code",
      "metadata": {
        "id": "ZGJj7ze1layv"
      },
      "source": [
        "#CheckM requires Prodigal\n",
        "%%shell\n",
        "wget https://github.com/hyattpd/Prodigal/releases/download/v2.6.3/prodigal.linux\n",
        "cp prodigal.linux /usr/local/bin/prodigal\n",
        "chmod +x /usr/local/bin/prodigal\n",
        "prodigal"
      ],
      "execution_count": null,
      "outputs": []
    },
    {
      "cell_type": "code",
      "metadata": {
        "id": "fR3WMO-puFBc"
      },
      "source": [
        "#RFPlasmid requires the randomForest package. Probably already installed on most distributions but surprisingly not on Google Colab\n",
        "%%shell\n",
        "Rscript -e 'install.packages(\"randomForest\")'"
      ],
      "execution_count": null,
      "outputs": []
    },
    {
      "cell_type": "code",
      "metadata": {
        "id": "-Ksuhfp6eSib"
      },
      "source": [
        " #installing RFPlasmid using pip\n",
        " %%shell\n",
        " pip3 install rfplasmid"
      ],
      "execution_count": null,
      "outputs": []
    },
    {
      "cell_type": "code",
      "metadata": {
        "id": "C-5NU2rDhMrz"
      },
      "source": [
        "#getting checkM databases. This is important and often overlooked\n",
        "%%shell\n",
        "mkdir /usr/local/checkm_data\n",
        "cd /usr/local/checkm_data/\n",
        "wget https://data.ace.uq.edu.au/public/CheckM_databases/checkm_data_2015_01_16.tar.gz\n",
        "tar xzvf checkm_data_2015_01_16.tar.gz\n",
        "checkm data setRoot /usr/local/checkm_data/"
      ],
      "execution_count": null,
      "outputs": []
    },
    {
      "cell_type": "code",
      "metadata": {
        "id": "NJc933YaelVt"
      },
      "source": [
        "# Initialize RFPlasmid databases\n",
        "%%shell\n",
        "rfplasmid --initialize #use --initialize first to check if RFPlasmid databases are present and formatted, if not, download them\n",
        "# This may end with an error because of Google Colab pecularities and not being and interactive shell. It still works. "
      ],
      "execution_count": null,
      "outputs": []
    },
    {
      "cell_type": "code",
      "metadata": {
        "id": "_H9UEYa_jyXt"
      },
      "source": [
        "#get an example folder which is part of the rfplasmid github\n",
        "%%shell\n",
        "git clone https://github.com/aldertzomer/RFPlasmid.git"
      ],
      "execution_count": null,
      "outputs": []
    },
    {
      "cell_type": "code",
      "metadata": {
        "id": "0qOqhVWUe0Yl"
      },
      "source": [
        "# Does RFPlasmid work? \n",
        "%%shell\n",
        "# Here we run rfplasmid on the examplefolder from github. Get your own folder from google drive using the example below\n",
        "# This is a run without Jellyfish. For a bit of extra speedup, Jellyfish can be installed, however for the few genomes in the example it won't matter that much.\n",
        "rfplasmid --species Campylobacter --input RFPlasmid/example --threads 8 --out outputfolder6 --debug"
      ],
      "execution_count": null,
      "outputs": []
    },
    {
      "cell_type": "code",
      "metadata": {
        "id": "v_SnIfXqw3uM"
      },
      "source": [
        "# It works!\n",
        "%%shell\n",
        "cat outputfolder6/prediction.csv"
      ],
      "execution_count": null,
      "outputs": []
    },
    {
      "cell_type": "markdown",
      "metadata": {
        "id": "8Q9PSHrgwhB_"
      },
      "source": [
        "## How to run it on your own folder on Google Drive. \n",
        "This is experimental and not that well tested. The Google Colab script was only there to showcase the installation procedure. "
      ]
    },
    {
      "cell_type": "code",
      "metadata": {
        "id": "ngWKq9d0vlJ7"
      },
      "source": [
        "# Make a mountpoint for your google drive\n",
        "%%shell\n",
        "mkdir  gdrive"
      ],
      "execution_count": null,
      "outputs": []
    },
    {
      "cell_type": "code",
      "metadata": {
        "id": "kPHDnCRuv3Nu"
      },
      "source": [
        "# Mount google drive. You will need to authorize access using the link. \n",
        "from google.colab import drive\n",
        "drive.mount('gdrive', force_remount=True)"
      ],
      "execution_count": null,
      "outputs": []
    },
    {
      "cell_type": "code",
      "metadata": {
        "id": "MvOdtCoOwCZP"
      },
      "source": [
        "# Run RFPlasmid on a folder in your Google Drive. The folder should be in the root of your google drive and be called rfplasmid and should contain .fasta files\n",
        "%%shell\n",
        "ls gdrive/rfplasmid\n",
        "rfplasmid --species Campylobacter --input gdrive/rfplasmid --threads 8 --out gdrive/rfplasmidoutput --debug"
      ],
      "execution_count": null,
      "outputs": []
    }
  ]
}
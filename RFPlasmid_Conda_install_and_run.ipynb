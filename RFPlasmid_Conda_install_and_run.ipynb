{
  "nbformat": 4,
  "nbformat_minor": 0,
  "metadata": {
    "colab": {
      "name": "RFPlasmid Conda install and run",
      "provenance": [],
      "authorship_tag": "ABX9TyP30QYbi164e335BWl3anEu",
      "include_colab_link": true
    },
    "kernelspec": {
      "name": "python3",
      "display_name": "Python 3"
    },
    "language_info": {
      "name": "python"
    }
  },
  "cells": [
    {
      "cell_type": "markdown",
      "metadata": {
        "id": "view-in-github",
        "colab_type": "text"
      },
      "source": [
        "<a href=\"https://colab.research.google.com/github/aldertzomer/RFPlasmid/blob/master/RFPlasmid_Conda_install_and_run.ipynb\" target=\"_parent\"><img src=\"https://colab.research.google.com/assets/colab-badge.svg\" alt=\"Open In Colab\"/></a>"
      ]
    },
    {
      "cell_type": "markdown",
      "metadata": {
        "id": "_8QbCay-6shh"
      },
      "source": [
        "# Installing RFPlasmid using Conda\n",
        "\n",
        "This script shows how to install rfplasmid using Conda. Google Colab has no Conda, but it can be installed using condacolab. Installing RFPlasmid in Conda is very easy thanks to the efforts of https://github.com/rpetit3\n"
      ]
    },
    {
      "cell_type": "code",
      "metadata": {
        "id": "8OrFQPUX5hV2"
      },
      "source": [
        "!pip install condacolab\n",
        "import condacolab\n",
        "condacolab.install_miniconda()\n"
      ],
      "execution_count": null,
      "outputs": []
    },
    {
      "cell_type": "code",
      "metadata": {
        "id": "NQU2uPbTcUld"
      },
      "source": [
        "%%shell\n",
        "conda install -c bioconda rfplasmid"
      ],
      "execution_count": null,
      "outputs": []
    },
    {
      "cell_type": "code",
      "metadata": {
        "id": "nvAblQuDdxe6"
      },
      "source": [
        "# We initialize rfplasmid to download the databases and run it on the examplefolder from the github\n",
        "%%shell\n",
        "rfplasmid --initialize\n",
        "git clone https://github.com/aldertzomer/RFPlasmid.git\n",
        "cd RFPlasmid\n",
        "rfplasmid --species Campylobacter --input example --threads 8 --out exampleout --jelly\n",
        "cat exampleout/prediction.csv"
      ],
      "execution_count": null,
      "outputs": []
    },
    {
      "cell_type": "markdown",
      "metadata": {
        "id": "Kr8568Xg9yUE"
      },
      "source": [
        "## How to run it on your own folder on Google Drive. \n",
        "This is experimental and not that well tested. The Google Colab script was only there to showcase the installation procedure. "
      ]
    },
    {
      "cell_type": "code",
      "metadata": {
        "id": "_kyj-Bdd9xN6"
      },
      "source": [
        "# Make a mountpoint for your google drive\n",
        "%%shell\n",
        "mkdir  gdrive"
      ],
      "execution_count": null,
      "outputs": []
    },
    {
      "cell_type": "code",
      "metadata": {
        "id": "29b2ubUI94fd"
      },
      "source": [
        "# Mount google drive. You will need to authorize access using the link. \n",
        "from google.colab import drive\n",
        "drive.mount('gdrive', force_remount=True)"
      ],
      "execution_count": null,
      "outputs": []
    },
    {
      "cell_type": "code",
      "metadata": {
        "id": "owDNOxfy97X9"
      },
      "source": [
        "# Run RFPlasmid on a folder in your Google Drive. The folder should be in the root of your google drive and be called rfplasmid and should contain .fasta files\n",
        "%%shell\n",
        "ls gdrive/rfplasmid\n",
        "rfplasmid --species Campylobacter --input gdrive/rfplasmid --threads 8 --out gdrive/rfplasmidoutput --debug"
      ],
      "execution_count": null,
      "outputs": []
    }
  ]
}